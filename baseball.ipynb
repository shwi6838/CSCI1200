{
 "cells": [
  {
   "cell_type": "code",
   "execution_count": 1,
   "metadata": {
    "id": "a1b9_1PXQ4Xc"
   },
   "outputs": [],
   "source": [
    "#Quinn Lew, Shane Wierl\n",
    "#Section \n",
    "#Mini Project"
   ]
  },
  {
   "cell_type": "code",
   "execution_count": 32,
   "metadata": {
    "id": "JwDpmeFAQ4Xg"
   },
   "outputs": [],
   "source": [
    "%matplotlib inline\n",
    "\n",
    "\n",
    "import matplotlib.pyplot as plt\n",
    "import statistics\n",
    "\n",
    "# You may add more imports as needed\n",
    "\n",
    "# \"BD\" stands for \"batting data\" \n",
    "class BD:\n",
    "    year = 0\n",
    "    player_id = 1\n",
    "    first_name = 2\n",
    "    last_name = 3\n",
    "    team_name = 4\n",
    "    games = 5\n",
    "    at_bats = 6\n",
    "    runs = 7\n",
    "    hits = 8\n",
    "    doubles = 9\n",
    "    triples = 10\n",
    "    home_runs = 11\n",
    "    rbi = 12\n",
    "    walks = 13\n",
    "    hbp = 14\n",
    "    stolen_bases = 15\n",
    "    caught_stealing = 16\n",
    "    strike_outs = 17\n",
    "    sac_flies = 18\n",
    "    position = 19"
   ]
  },
  {
   "cell_type": "code",
   "execution_count": 33,
   "metadata": {
    "id": "86nXVHczQ4Xh"
   },
   "outputs": [],
   "source": [
    "def verify_baseball_data(data):\n",
    "    \"\"\"\n",
    "    Verifies the structure and format of the baseball data:\n",
    "        checks that all rows have the same number of columns\n",
    "        checks that each column is the correct type (str for string columns, int for int columns)\n",
    "        checks that it has the correct number of rows and the correct number of columns\n",
    "    \n",
    "    If your data is in the right format, you'll see the output:\n",
    "        Rows: 74750\n",
    "        Cols: 20\n",
    "        Congrats! You have the correct shape of data!\n",
    "\n",
    "    If you see something else, this will give you an indication of what is not right.\n",
    "\n",
    "    Parameters:\n",
    "    -----------\n",
    "        data : list of lists\n",
    "            From the baseball data (each sublist corresponds to a row from the input file)\n",
    "    \"\"\"\n",
    "    rows = len(data)\n",
    "    cols = len(data[0])\n",
    "\n",
    "    # make sure all rows have the same number of columns\n",
    "    same_number_columns = True\n",
    "    i = 0\n",
    "    while i < len(data):\n",
    "        row = data[i]\n",
    "        if len(row) != cols:\n",
    "            same_number_columns = False\n",
    "        i += 1\n",
    "\n",
    "    if not same_number_columns:\n",
    "        print(\"Some rows have a different number of columns!\")\n",
    "\n",
    "    # make sure each column is the correct type\n",
    "    overall_type = True    \n",
    "    str_cols = [BD.player_id, BD.first_name, BD.last_name, BD.team_name, BD.position]\n",
    "    \n",
    "    column = 0\n",
    "    while column < cols:\n",
    "        col_vals = get_column_values(data, column)\n",
    "        correct_type = True\n",
    "        j = 0\n",
    "        while j < len(col_vals):\n",
    "            val = col_vals[j]\n",
    "            if ((column in str_cols) and type(val) is not str) or (column not in str_cols and type(val) is not int):\n",
    "                correct_type = False\n",
    "            j += 1\n",
    "\n",
    "        if not correct_type:\n",
    "            print(\"Column \" + str(column) + \" contains values that are not the right type!\")\n",
    "            print(col_vals[:10]) # print the first 10 values\n",
    "            overall_type = False\n",
    "        column += 1\n",
    "\n",
    "\n",
    "    if overall_type and same_number_columns:\n",
    "        print(\"Rows: \" + str(rows))\n",
    "        print(\"Cols: \" + str(cols))\n",
    "\n",
    "        if rows == 74750 and cols == 20:\n",
    "            print(\"Congrats! You have the correct shape of data!\")\n",
    "        else:\n",
    "            print(\"You have the incorrect shape of data!\")\n",
    "            print(\"You have # rows (should be 74750): \" + str(rows))\n",
    "            print(\"You have # columns (should be 20): \" + str(cols))"
   ]
  },
  {
   "cell_type": "code",
   "execution_count": null,
   "metadata": {},
   "outputs": [],
   "source": [
    "#Utility Functions\n",
    "\n",
    "def get_column_values(data, c_index):\n",
    "    i = 0\n",
    "    column_list = []\n",
    "    while i < len(data):\n",
    "        column_list.append(data[i][c_index])\n",
    "        i+=1\n",
    "    return column_list\n",
    "\n",
    "def get_matching_rows(data, c_index, target):\n",
    "    i = 0\n",
    "    matching = []\n",
    "    while i < len(data):\n",
    "        if data[i][c_index] == target:\n",
    "            matching.append(data[i])\n",
    "        i+=1\n",
    "    return matching\n",
    "\n",
    "def unique_values(ls):\n",
    "    unique = []\n",
    "    i = 0\n",
    "    while i < len(ls):\n",
    "        val = ls[i]\n",
    "        if val not in unique:\n",
    "            unique.append(val)\n",
    "        i+=1\n",
    "    return unique\n",
    "\n",
    "def get_unique_column_values(data, c_index):\n",
    "    values = get_column_values()\n",
    "    unique = unique_values(values)\n",
    "    return unique\n",
    "    \n",
    "\n",
    "def get_menu_choice():\n",
    "    print(\"1: Line graph of games played for one player over time\")\n",
    "    print(\"2: Line graph of games played for one player over time separated by team\")\n",
    "    print(\"3: Histogram of runs scored for all players in one year (no cutoff)\")\n",
    "    print(\"4: Histogram of runs scored for all players in one year (cutoff = 100)\")\n",
    "    print(\"5: Graph of team presence over time\")\n",
    "    print(\"6: Homeruns over time (percentiles)\")\n",
    "    print(\"0: Exit\")\n",
    "    choice = input(\"which graph do you want?\")\n",
    "    if choice == '1':\n",
    "          print(\"display graph 1\")\n",
    "          get_menu_choice()\n",
    "    if choice == '2':\n",
    "          print(\"display graph 2\")\n",
    "          get_menu_choice()\n",
    "    if choice == '3':\n",
    "          print(\"display graph 3\")\n",
    "          get_menu_choice()\n",
    "    if choice == '4':\n",
    "          print(\"display graph 4\")\n",
    "          get_menu_choice()\n",
    "    if choice == '5':\n",
    "          print(\"display graph 5\")\n",
    "          get_menu_choice()\n",
    "    if choice == '6':\n",
    "          print(\"display graph 6\")\n",
    "          get_menu_choice()\n",
    "    if choice == '0':\n",
    "          print(\"END\")\n",
    "    else:\n",
    "          print(\"INVALID\")\n",
    "          get_menu_choice()"
   ]
  },
  {
   "cell_type": "markdown",
   "metadata": {
    "id": "UgDiVu69Q4Xi"
   },
   "source": [
    "Baseball Data Visualization Project\n",
    "=============\n",
    "\n",
    "Add more cells as needed! Make sure that your notebook runs without errors before turning it in for each checkpoint!"
   ]
  },
  {
   "cell_type": "code",
   "execution_count": 49,
   "metadata": {
    "id": "Y_Q0EUR1Q4Xk"
   },
   "outputs": [
    {
     "name": "stdout",
     "output_type": "stream",
     "text": [
      "Rows: 74750\n",
      "Cols: 20\n",
      "Congrats! You have the correct shape of data!\n"
     ]
    }
   ],
   "source": [
    "def read_data():\n",
    "    f = open(\"BattingData.csv\", \"r\")\n",
    "    headers = f.readline().strip().split(\",\")\n",
    "    ls = []\n",
    "    line = f.readline()\n",
    "    while line:\n",
    "        row = line.strip().split(\",\")\n",
    "        if row[BD.sac_flies] == \"\":\n",
    "            row[BD.sac_flies] = 0\n",
    "        row[0] = int(row[0])\n",
    "        i = 5\n",
    "        while 4 < i and i < len(row)-1:\n",
    "            row[i] = int(row[i])\n",
    "            i+=1\n",
    "        ls.append(row)\n",
    "        line = f.readline()\n",
    "        #print(row)\n",
    "    return ls \n",
    "\n",
    "#read_data()\n",
    "verify_baseball_data(read_data())"
   ]
  },
  {
   "cell_type": "code",
   "execution_count": 51,
   "metadata": {},
   "outputs": [],
   "source": [
    "def main():\n",
    "    get_menu_choice()"
   ]
  },
  {
   "cell_type": "code",
   "execution_count": null,
   "metadata": {},
   "outputs": [],
   "source": []
  }
 ],
 "metadata": {
  "colab": {
   "name": "baseball_starter.ipynb",
   "provenance": []
  },
  "kernelspec": {
   "display_name": "Python 3 (ipykernel)",
   "language": "python",
   "name": "python3"
  },
  "language_info": {
   "codemirror_mode": {
    "name": "ipython",
    "version": 3
   },
   "file_extension": ".py",
   "mimetype": "text/x-python",
   "name": "python",
   "nbconvert_exporter": "python",
   "pygments_lexer": "ipython3",
   "version": "3.9.6"
  }
 },
 "nbformat": 4,
 "nbformat_minor": 4
}
