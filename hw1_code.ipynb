{
 "cells": [
  {
   "cell_type": "code",
   "execution_count": null,
   "id": "91cf2a35-bca2-45ef-b7ab-6d4a7faed474",
   "metadata": {},
   "outputs": [],
   "source": [
    "# Name: Shane Wierl\n",
    "# Section: 100\n",
    "# Homework: Homework 1, \"Hello Computers!\"\n",
    "# Description: Practicing print commands and operations"
   ]
  },
  {
   "cell_type": "code",
   "execution_count": 2,
   "id": "17bbfc5e-aa97-48b0-81a2-163af39d8378",
   "metadata": {},
   "outputs": [
    {
     "name": "stdout",
     "output_type": "stream",
     "text": [
      "Hello, My name is Shane Wierl. I am from Lafayette Colorado.\n",
      "I am in open option engineering and have taken many engineering courses in high school\n",
      "My hobbies are biking, golfing, hiking, swimming, playing videogames, and having fun!\n"
     ]
    }
   ],
   "source": [
    "# Question 4\n",
    "print (\"Hello, My name is Shane Wierl. I am from Lafayette Colorado.\");\n",
    "print (\"I am in open option engineering and have taken many engineering courses in high school\");\n",
    "print (\"My hobbies are biking, golfing, hiking, swimming, playing videogames, and having fun!\");"
   ]
  },
  {
   "cell_type": "code",
   "execution_count": 1,
   "id": "bdbe0c3d-847b-47d3-95e3-703b58040dad",
   "metadata": {},
   "outputs": [
    {
     "name": "stdout",
     "output_type": "stream",
     "text": [
      "\n"
     ]
    }
   ],
   "source": [
    "# Question 5\n",
    "print ();\n",
    "#It prints a blank line"
   ]
  },
  {
   "cell_type": "code",
   "execution_count": 14,
   "id": "e39d9b33-ea0e-4b0a-b8a7-eefd73c2ff10",
   "metadata": {},
   "outputs": [
    {
     "name": "stdout",
     "output_type": "stream",
     "text": [
      "13.4\n",
      "34.0\n",
      "5.0\n",
      "2.5\n",
      "3\n",
      "4\n",
      "15.639999999999999\n",
      "9.0\n",
      "88888\n"
     ]
    }
   ],
   "source": [
    "# Question 6\n",
    "num = 10;\n",
    "string = \"hello\";\n",
    "float = 3.4;\n",
    "#int + float = float\n",
    "print(num + float);\n",
    "#int * float = float\n",
    "print(num * float);\n",
    "#int / int = float\n",
    "print(10/2);\n",
    "print (10/4);\n",
    "#int // int = int\n",
    "print(10//3);\n",
    "print(33//7);\n",
    "#float * float = float\n",
    "print(3.4*4.6);\n",
    "#float // int = float\n",
    "print(39.67 // 4);\n",
    "#float + string = TypeError\n",
    "#print(3.4 + string);\n",
    "#String + int = TypeError\n",
    "#print(\"4\" + 6);\n",
    "#String * int = string\n",
    "print(\"8\" * 5);\n",
    "#string / int = TypeError\n",
    "#print(\"66\" / 6);"
   ]
  },
  {
   "cell_type": "code",
   "execution_count": 17,
   "id": "67ca243a-c0a8-43be-8db0-0e1f80ee09ba",
   "metadata": {},
   "outputs": [
    {
     "name": "stdout",
     "output_type": "stream",
     "text": [
      "4\n",
      "0\n"
     ]
    }
   ],
   "source": [
    "# Question 7\n",
    "#Exploring Modulus %\n",
    "print(10%6);\n",
    "#Modulus % gives the remainder of the division operation. \n",
    "#For example, 10/6 = 1, but with 4 leftover, which is the modulus of 10/6\n",
    "print(220%11);\n",
    "#There is no remainder because 11 goes into 220 evenly, so the modulus is 0."
   ]
  },
  {
   "cell_type": "code",
   "execution_count": null,
   "id": "bfbfa691-db8d-4e03-bea1-8e72ca1eea51",
   "metadata": {},
   "outputs": [],
   "source": []
  }
 ],
 "metadata": {
  "kernelspec": {
   "display_name": "Python 3 (ipykernel)",
   "language": "python",
   "name": "python3"
  },
  "language_info": {
   "codemirror_mode": {
    "name": "ipython",
    "version": 3
   },
   "file_extension": ".py",
   "mimetype": "text/x-python",
   "name": "python",
   "nbconvert_exporter": "python",
   "pygments_lexer": "ipython3",
   "version": "3.9.6"
  }
 },
 "nbformat": 4,
 "nbformat_minor": 5
}
