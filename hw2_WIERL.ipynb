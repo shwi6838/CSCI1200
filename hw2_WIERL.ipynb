{
 "cells": [
  {
   "cell_type": "code",
   "execution_count": null,
   "metadata": {
    "colab": {},
    "colab_type": "code",
    "id": "l1TsODS3z2HG",
    "tags": []
   },
   "outputs": [],
   "source": [
    "# Name: Shane Wierl\n",
    "# Section: 100\n",
    "# Homework: Pseudo-functions\n",
    "# Description: Practice and Use functions and variables"
   ]
  },
  {
   "cell_type": "markdown",
   "metadata": {
    "colab_type": "text",
    "id": "dmFSfkBxz2HU"
   },
   "source": [
    "Part 1: Pseudocode\n",
    "--------\n",
    "\n",
    "Complete part 1 in hw2_written.pdf. You should put your answer in your word processor of choice, save it as hw2_LASTNAME_written.pdf, and turn it in on canvas."
   ]
  },
  {
   "cell_type": "markdown",
   "metadata": {
    "colab_type": "text",
    "id": "mldAKP8Pz2HZ"
   },
   "source": [
    "## Part 2:  Using Functions\n",
    "--------\n",
    "### Question 2 (15 points)"
   ]
  },
  {
   "cell_type": "markdown",
   "metadata": {
    "colab_type": "text",
    "id": "mjhQsaB9z2Ha"
   },
   "source": [
    "Complete the exercises from part 2 question 2 of the write-up in the cells below. For full credit, you must include all lines of code from the problem write-ups."
   ]
  },
  {
   "cell_type": "code",
   "execution_count": 11,
   "metadata": {
    "colab": {},
    "colab_type": "code",
    "id": "PmlvTdu-z2Hc",
    "tags": []
   },
   "outputs": [
    {
     "name": "stdout",
     "output_type": "stream",
     "text": [
      "2\n",
      "12\n"
     ]
    }
   ],
   "source": [
    "# A) Re-write the code from question 1 below. Put a comment at the end of \n",
    "# each line of code stating the value and type of the variable \"my_var\"\n",
    "# Example:\n",
    "my_var = 0.0 # 0.0, float\n",
    "#print (my_var)\n",
    "my_var = 1 # 1 , int\n",
    "#print (my_var)\n",
    "my_var = \"great white shark\" # great white shark, string\n",
    "#print (my_var)\n",
    "my_var = 7.4 # 7.4, float\n",
    "#print (my_var)\n",
    "my_var = 0  # 0, int\n",
    "#print (my_var)\n",
    "my_var = my_var + 1  #1, int\n",
    "#print (my_var)\n",
    "my_var = my_var + 1  #2, int\n",
    "#print (my_var)\n",
    "my_var = my_var * 6  # 12, int\n",
    "#print (my_var)\n",
    "my_var = my_var / 1  # 12.0, float\n",
    "#print (my_var)"
   ]
  },
  {
   "cell_type": "code",
   "execution_count": 13,
   "metadata": {
    "colab": {},
    "colab_type": "code",
    "id": "3cIjDvJxz2Hl",
    "tags": []
   },
   "outputs": [],
   "source": [
    "# B) Re-write the code from question 2 below. \n",
    "# What kind of error is produced?\n",
    "# Answer: NameError because x needs to be defined before its used\n",
    "#print(x)\n",
    "#x = 7"
   ]
  },
  {
   "cell_type": "code",
   "execution_count": 14,
   "metadata": {
    "colab": {},
    "colab_type": "code",
    "id": "0CRn5Ny7z2Hr",
    "tags": []
   },
   "outputs": [
    {
     "name": "stdout",
     "output_type": "stream",
     "text": [
      "7\n"
     ]
    }
   ],
   "source": [
    "# C) Rearrange the lines of code from question 2 part C below so that no error is produced when you run it.\n",
    "x = 7\n",
    "print(x)"
   ]
  },
  {
   "cell_type": "code",
   "execution_count": 16,
   "metadata": {
    "colab": {},
    "colab_type": "code",
    "id": "EL2OEsJOz2Hz",
    "tags": []
   },
   "outputs": [
    {
     "name": "stdout",
     "output_type": "stream",
     "text": [
      "3\n"
     ]
    }
   ],
   "source": [
    "# D) Rearrange the lines of code from question 2 part D below so that no error is produced when you run it.\n",
    "num1 = 0\n",
    "num2 = 1\n",
    "num3 = num2 + num2\n",
    "num3 = num1 + num2 + num3\n",
    "print(num3)"
   ]
  },
  {
   "cell_type": "code",
   "execution_count": 19,
   "metadata": {
    "colab": {},
    "colab_type": "code",
    "id": "Jef3igQ6z2H6",
    "tags": []
   },
   "outputs": [
    {
     "name": "stdout",
     "output_type": "stream",
     "text": [
      "harrietspyspyspy\n"
     ]
    }
   ],
   "source": [
    "# E)  Rearrange the lines of code from question 2 part E below so that no error is produced when you run it.\n",
    "name = \"harriet\"\n",
    "profession = \"spy\"\n",
    "mult = 3\n",
    "print(name + profession * mult)"
   ]
  },
  {
   "cell_type": "code",
   "execution_count": 18,
   "metadata": {
    "colab": {},
    "colab_type": "code",
    "id": "xj0kVtJ8z2IC",
    "tags": []
   },
   "outputs": [
    {
     "name": "stdout",
     "output_type": "stream",
     "text": [
      "4\n",
      "baa black sheep baa baa baa baa\n"
     ]
    }
   ],
   "source": [
    "# F)  Rearrange the lines of code from question 2 part F below so that no error is produced when you run it.\n",
    "a = 2\n",
    "b = 2 * a\n",
    "print(b)\n",
    "text_1 = \"baa black sheep\"\n",
    "text_2 = \" baa\"\n",
    "c = text_1 + text_2 * b\n",
    "print(c)"
   ]
  },
  {
   "cell_type": "code",
   "execution_count": 21,
   "metadata": {
    "colab": {},
    "colab_type": "code",
    "id": "SCAk0nWBz2IH",
    "tags": []
   },
   "outputs": [
    {
     "name": "stdin",
     "output_type": "stream",
     "text": [
      "How old are you?  6\n"
     ]
    },
    {
     "name": "stdout",
     "output_type": "stream",
     "text": [
      "I am 6\n"
     ]
    }
   ],
   "source": [
    "# G) Re-write the lines of code from question 2 part G below.\n",
    "# Why does the code not work as written?\n",
    "# Answer: NameError because age was not defined\n",
    "age = input(\"How old are you? \")\n",
    "print(\"I am \" + age)\n",
    "# fix the code so that it does not produce an error."
   ]
  },
  {
   "cell_type": "code",
   "execution_count": 24,
   "metadata": {
    "colab": {},
    "colab_type": "code",
    "id": "ajtoF4HJz2IM",
    "tags": []
   },
   "outputs": [
    {
     "name": "stdout",
     "output_type": "stream",
     "text": [
      "I will be 122\n"
     ]
    }
   ],
   "source": [
    "# H) Re-write the lines of code from question 2 part H below.\n",
    "# Why does the code not work as written?\n",
    "# Answer: TypeError because the variable needs to be casted to a string to be printed\n",
    "age = 112\n",
    "ten_years_from_now = age + 10\n",
    "print(\"I will be \" + str(ten_years_from_now))\n",
    "\n",
    "# make sure to comment out the code when you are done with this\n",
    "# problem so that it doesn't produce errors when run!"
   ]
  },
  {
   "cell_type": "code",
   "execution_count": 26,
   "metadata": {
    "colab": {},
    "colab_type": "code",
    "id": "e1pmn1TXz2IR"
   },
   "outputs": [],
   "source": [
    "# I) Re-write the lines of code from question 2 part I below.\n",
    "# What are three reasons that this code does not work as written? \n",
    "# Answer: The input needs a variable 'age' assigned to it, \n",
    "# the ten_years... variable needs to be casted to a string in the print statement,\n",
    "# and the input is read a s a string and needs to be casted to an int to be added to 10\n",
    "#input(\"How old are you? \")\n",
    "#ten_years_from_now = age + 10\n",
    "#print(\"I will be \" + ten_years_from_now)\n",
    "# make sure to comment out the code when you are done with this\n",
    "# problem so that it doesn't produce errors when run!"
   ]
  },
  {
   "cell_type": "markdown",
   "metadata": {
    "colab_type": "text",
    "id": "ZZJpEvo4z2IW"
   },
   "source": [
    "--------\n",
    "### Question 3 (30 points)\n",
    "\n",
    "You do not need to define your own functions for this part of the homework."
   ]
  },
  {
   "cell_type": "markdown",
   "metadata": {
    "colab_type": "text",
    "id": "OzVwBm2vz2IW"
   },
   "source": [
    "A) Give an example usage of each of the following functions: ```len()```, ```abs()```, ```round()```, and ```chr()```. Valid examples must do all of the following: \n",
    "   1. Run\n",
    "   2. Use the function with correct arguments\n",
    "        1. if the function can take variable numbers of arguments, give at least 2 examples showing usage with 2 different numbers of arguments.\n",
    "   3. Save any return values in a variable\n",
    "   4. Print out the return value\n",
    "   5. Include a comment describing what this function does and why you might want to use it. \n",
    "\n",
    "\n",
    "Consult the write up for further information.\n",
    "\n",
    "You should have at minimum 2 - 3 lines of code and 1 comment for each example."
   ]
  },
  {
   "cell_type": "code",
   "execution_count": 1,
   "metadata": {
    "colab": {
     "base_uri": "https://localhost:8080/",
     "height": 34
    },
    "colab_type": "code",
    "executionInfo": {
     "elapsed": 393,
     "status": "ok",
     "timestamp": 1599861146609,
     "user": {
      "displayName": "Nimra Sharnez",
      "photoUrl": "",
      "userId": "13843903423015333418"
     },
     "user_tz": 420
    },
    "id": "ELzJfLZDz2IY",
    "outputId": "18192508-041b-48a5-9fd3-8abc43948cbd",
    "tags": []
   },
   "outputs": [
    {
     "name": "stdout",
     "output_type": "stream",
     "text": [
      "8\n"
     ]
    }
   ],
   "source": [
    "# len()\n",
    "word = \"Dinosaur\"\n",
    "print (len(word))\n",
    "#Len() will return the number of characters in a string or object (lists, arrays, etc)"
   ]
  },
  {
   "cell_type": "code",
   "execution_count": 2,
   "metadata": {
    "colab": {},
    "colab_type": "code",
    "id": "OEUHq8Vuz2Ie",
    "tags": []
   },
   "outputs": [
    {
     "name": "stdout",
     "output_type": "stream",
     "text": [
      "57.6\n"
     ]
    }
   ],
   "source": [
    "# abs()\n",
    "a = 8\n",
    "b = -7.2\n",
    "print(abs(a*b))\n",
    "#Abs() will return the absolute value of a number and will always be positive"
   ]
  },
  {
   "cell_type": "code",
   "execution_count": 3,
   "metadata": {
    "colab": {},
    "colab_type": "code",
    "id": "gMYlrD-sz2Ij",
    "tags": []
   },
   "outputs": [
    {
     "name": "stdout",
     "output_type": "stream",
     "text": [
      "94\n"
     ]
    }
   ],
   "source": [
    "# round()\n",
    "a = 54\n",
    "b = 1.745\n",
    "print(round(a*b))\n",
    "#Round() will round the number to a certain number of digits, or to the nearest integer"
   ]
  },
  {
   "cell_type": "code",
   "execution_count": 5,
   "metadata": {
    "colab": {},
    "colab_type": "code",
    "id": "3tUcXSzUz2Io",
    "tags": []
   },
   "outputs": [
    {
     "name": "stdout",
     "output_type": "stream",
     "text": [
      "@\n",
      "\u0012\n"
     ]
    }
   ],
   "source": [
    "# chr()\n",
    "a = 64\n",
    "b = 18\n",
    "print(chr(a))\n",
    "print(chr(b))\n",
    "#Chr() returns a string character that represents the integer value"
   ]
  },
  {
   "cell_type": "markdown",
   "metadata": {
    "colab_type": "text",
    "id": "cPaHlXdJz2Iv"
   },
   "source": [
    "B) Write a python program that tells the user about your favorite movie. Tell them about the movie using the ```print()``` function, then ask the user what their name is and what their favorite movie is by using the ```input()``` function. After the user answers these questions, greet them and make a comment about their favorite movie.\n",
    "\n",
    "See the HW instructions for examples."
   ]
  },
  {
   "cell_type": "code",
   "execution_count": 7,
   "metadata": {
    "colab": {},
    "colab_type": "code",
    "executionInfo": {
     "elapsed": 375,
     "status": "ok",
     "timestamp": 1599858519003,
     "user": {
      "displayName": "Nimra Sharnez",
      "photoUrl": "",
      "userId": "13843903423015333418"
     },
     "user_tz": 420
    },
    "id": "OqnrJWqPz2Iv",
    "tags": []
   },
   "outputs": [
    {
     "name": "stdout",
     "output_type": "stream",
     "text": [
      "Hello. My name is Shane and my favorite movie is It.\n"
     ]
    },
    {
     "name": "stdin",
     "output_type": "stream",
     "text": [
      "What is your name? Tony\n",
      "What is your favorite movie? Cinderella\n"
     ]
    },
    {
     "name": "stdout",
     "output_type": "stream",
     "text": [
      "Hello, Tony.\n",
      "Cinderella is a very well made movie! I like that one too.\n"
     ]
    }
   ],
   "source": [
    "print(\"Hello. My name is Shane and my favorite movie is It.\")\n",
    "name = input(\"What is your name?\")\n",
    "movie = input(\"What is your favorite movie?\")\n",
    "print(\"Hello, \"+name+\".\")\n",
    "print(movie+\" is a very well made movie! I like that one too.\")"
   ]
  },
  {
   "cell_type": "markdown",
   "metadata": {
    "colab_type": "text",
    "id": "o9bSv9T6z2Iz"
   },
   "source": [
    "C) Write a program that prompts the user for their height in inches, converts that amount to centimeters, and reports back the user’s height in both centimeters and meters. Use the ```round()``` function to round your answers to two decimal places.\n",
    "\n",
    "Note: to convert inches (“in”) to centimeters (“cm”), multiply the number of inches by 2.54. To convert centimeters to meters (“m”), divide the number of centimeters by 100.   \n",
    "\n",
    "See the HW instructions for examples of output."
   ]
  },
  {
   "cell_type": "code",
   "execution_count": 11,
   "metadata": {
    "colab": {},
    "colab_type": "code",
    "id": "Kqta2pN3z2I0",
    "tags": []
   },
   "outputs": [
    {
     "name": "stdin",
     "output_type": "stream",
     "text": [
      "What is your height (in)? 675\n"
     ]
    },
    {
     "name": "stdout",
     "output_type": "stream",
     "text": [
      "That is 1714.5 cm and 6.75 m!\n"
     ]
    }
   ],
   "source": [
    "height = input(\"What is your height (in)?\")\n",
    "print(\"That is \"+ str(int(height)*2.54) + \" cm and \"+ str(int(height)/100) + \" m!\")"
   ]
  },
  {
   "cell_type": "markdown",
   "metadata": {
    "colab_type": "text",
    "id": "9gcbFC32z2I5"
   },
   "source": [
    "D) Write a program that calculates the maximum occupancy of a room, given its length and width as reported by the user. We will use the following formula to calculate maximum occupancy:\n",
    "\n",
    "```number_of_people = area_of_the_room / 20```.\n",
    "\n",
    "Make sure that your reported occupancy does not include any partial people! (Hint: think about python’s different kinds of divide operators and casting to help you out!)\n",
    "\n",
    "See the write-up for examples of output, and remember to check your code with different inputs."
   ]
  },
  {
   "cell_type": "code",
   "execution_count": 13,
   "metadata": {
    "colab": {},
    "colab_type": "code",
    "id": "CMjnYjA5z2I6",
    "tags": []
   },
   "outputs": [
    {
     "name": "stdin",
     "output_type": "stream",
     "text": [
      "What is the room length (ft)? 34\n",
      "What is the room width (ft)? 13\n"
     ]
    },
    {
     "name": "stdout",
     "output_type": "stream",
     "text": [
      "Occupancy: 22 people\n"
     ]
    }
   ],
   "source": [
    "l = input(\"What is the room length (ft)?\")\n",
    "w = input(\"What is the room width (ft)?\")\n",
    "area = int(l) * int(w)\n",
    "print(\"Occupancy: \" + str(round(area / 20)) + \" people\")"
   ]
  },
  {
   "cell_type": "markdown",
   "metadata": {
    "colab_type": "text",
    "id": "Lqu-8GC8z2I_"
   },
   "source": [
    "STOP\n",
    "========\n",
    "Before turning this notebook in: restart your kernel and run all cells. Make sure that there are no errors!\n",
    "\n",
    "Make sure you have renamed this notebook according to the homework write-up!"
   ]
  }
 ],
 "metadata": {
  "colab": {
   "name": "hw2_starter.ipynb",
   "provenance": []
  },
  "kernelspec": {
   "display_name": "Python 3 (ipykernel)",
   "language": "python",
   "name": "python3"
  },
  "language_info": {
   "codemirror_mode": {
    "name": "ipython",
    "version": 3
   },
   "file_extension": ".py",
   "mimetype": "text/x-python",
   "name": "python",
   "nbconvert_exporter": "python",
   "pygments_lexer": "ipython3",
   "version": "3.9.6"
  }
 },
 "nbformat": 4,
 "nbformat_minor": 4
}
