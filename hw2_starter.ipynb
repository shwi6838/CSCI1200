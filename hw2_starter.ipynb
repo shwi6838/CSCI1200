{
 "cells": [
  {
   "cell_type": "code",
   "execution_count": null,
   "metadata": {
    "colab": {},
    "colab_type": "code",
    "collapsed": true,
    "id": "l1TsODS3z2HG",
    "jupyter": {
     "outputs_hidden": true
    }
   },
   "outputs": [],
   "source": [
    "# TODO: delete this comment and replace it with the header comment\n",
    "# that includes your name, the section of 1200 that you are registered for,\n",
    "# the homework name, and a brief description of what it does "
   ]
  },
  {
   "cell_type": "markdown",
   "metadata": {
    "colab_type": "text",
    "id": "dmFSfkBxz2HU"
   },
   "source": [
    "Part 1: Pseudocode\n",
    "--------\n",
    "\n",
    "Complete part 1 in hw2_written.pdf. You should put your answer in your word processor of choice, save it as hw2_LASTNAME_written.pdf, and turn it in on canvas."
   ]
  },
  {
   "cell_type": "markdown",
   "metadata": {
    "colab_type": "text",
    "id": "mldAKP8Pz2HZ"
   },
   "source": [
    "## Part 2:  Using Functions\n",
    "--------\n",
    "### Question 2 (15 points)"
   ]
  },
  {
   "cell_type": "markdown",
   "metadata": {
    "colab_type": "text",
    "id": "mjhQsaB9z2Ha"
   },
   "source": [
    "Complete the exercises from part 2 question 2 of the write-up in the cells below. For full credit, you must include all lines of code from the problem write-ups."
   ]
  },
  {
   "cell_type": "code",
   "execution_count": null,
   "metadata": {
    "colab": {},
    "colab_type": "code",
    "collapsed": true,
    "id": "PmlvTdu-z2Hc",
    "jupyter": {
     "outputs_hidden": true
    }
   },
   "outputs": [],
   "source": [
    "# A) Re-write the code from question 1 below. Put a comment at the end of \n",
    "# each line of code stating the value and type of the variable \"my_var\"\n",
    "# Example:\n",
    "my_var = 0.0 # 0.0, float\n"
   ]
  },
  {
   "cell_type": "code",
   "execution_count": null,
   "metadata": {
    "colab": {},
    "colab_type": "code",
    "collapsed": true,
    "id": "3cIjDvJxz2Hl",
    "jupyter": {
     "outputs_hidden": true
    }
   },
   "outputs": [],
   "source": [
    "# B) Re-write the code from question 2 below. \n",
    "# What kind of error is produced?\n",
    "# Answer: "
   ]
  },
  {
   "cell_type": "code",
   "execution_count": null,
   "metadata": {
    "colab": {},
    "colab_type": "code",
    "collapsed": true,
    "id": "0CRn5Ny7z2Hr",
    "jupyter": {
     "outputs_hidden": true
    }
   },
   "outputs": [],
   "source": [
    "# C) Rearrange the lines of code from question 2 part C below so that no error is produced when you run it."
   ]
  },
  {
   "cell_type": "code",
   "execution_count": null,
   "metadata": {
    "colab": {},
    "colab_type": "code",
    "collapsed": true,
    "id": "EL2OEsJOz2Hz",
    "jupyter": {
     "outputs_hidden": true
    }
   },
   "outputs": [],
   "source": [
    "# D) Rearrange the lines of code from question 2 part D below so that no error is produced when you run it."
   ]
  },
  {
   "cell_type": "code",
   "execution_count": null,
   "metadata": {
    "colab": {},
    "colab_type": "code",
    "collapsed": true,
    "id": "Jef3igQ6z2H6",
    "jupyter": {
     "outputs_hidden": true
    }
   },
   "outputs": [],
   "source": [
    "# E)  Rearrange the lines of code from question 2 part E below so that no error is produced when you run it."
   ]
  },
  {
   "cell_type": "code",
   "execution_count": null,
   "metadata": {
    "colab": {},
    "colab_type": "code",
    "collapsed": true,
    "id": "xj0kVtJ8z2IC",
    "jupyter": {
     "outputs_hidden": true
    }
   },
   "outputs": [],
   "source": [
    "# F)  Rearrange the lines of code from question 2 part F below so that no error is produced when you run it."
   ]
  },
  {
   "cell_type": "code",
   "execution_count": null,
   "metadata": {
    "colab": {},
    "colab_type": "code",
    "collapsed": true,
    "id": "SCAk0nWBz2IH",
    "jupyter": {
     "outputs_hidden": true
    }
   },
   "outputs": [],
   "source": [
    "# G) Re-write the lines of code from question 2 part G below.\n",
    "# Why does the code not work as written?\n",
    "# Answer:\n",
    "\n",
    "# fix the code so that it does not produce an error."
   ]
  },
  {
   "cell_type": "code",
   "execution_count": null,
   "metadata": {
    "colab": {},
    "colab_type": "code",
    "collapsed": true,
    "id": "ajtoF4HJz2IM",
    "jupyter": {
     "outputs_hidden": true
    }
   },
   "outputs": [],
   "source": [
    "# H) Re-write the lines of code from question 2 part H below.\n",
    "# Why does the code not work as written?\n",
    "# Answer:\n",
    "\n",
    "\n",
    "# make sure to comment out the code when you are done with this\n",
    "# problem so that it doesn't produce errors when run!"
   ]
  },
  {
   "cell_type": "code",
   "execution_count": null,
   "metadata": {
    "colab": {},
    "colab_type": "code",
    "id": "e1pmn1TXz2IR"
   },
   "outputs": [],
   "source": [
    "# I) Re-write the lines of code from question 2 part I below.\n",
    "# What are three reasons that this code does not work as written? \n",
    "# Answer:\n",
    "\n",
    "# make sure to comment out the code when you are done with this\n",
    "# problem so that it doesn't produce errors when run!"
   ]
  },
  {
   "cell_type": "markdown",
   "metadata": {
    "colab_type": "text",
    "id": "ZZJpEvo4z2IW"
   },
   "source": [
    "--------\n",
    "### Question 3 (30 points)\n",
    "\n",
    "You do not need to define your own functions for this part of the homework."
   ]
  },
  {
   "cell_type": "markdown",
   "metadata": {
    "colab_type": "text",
    "id": "OzVwBm2vz2IW"
   },
   "source": [
    "A) Give an example usage of each of the following functions: ```len()```, ```abs()```, ```round()```, and ```chr()```. Valid examples must do all of the following: \n",
    "   1. Run\n",
    "   2. Use the function with correct arguments\n",
    "        1. if the function can take variable numbers of arguments, give at least 2 examples showing usage with 2 different numbers of arguments.\n",
    "   3. Save any return values in a variable\n",
    "   4. Print out the return value\n",
    "   5. Include a comment describing what this function does and why you might want to use it. \n",
    "\n",
    "\n",
    "Consult the write up for further information.\n",
    "\n",
    "You should have at minimum 2 - 3 lines of code and 1 comment for each example."
   ]
  },
  {
   "cell_type": "code",
   "execution_count": 5,
   "metadata": {
    "colab": {
     "base_uri": "https://localhost:8080/",
     "height": 34
    },
    "colab_type": "code",
    "collapsed": true,
    "executionInfo": {
     "elapsed": 393,
     "status": "ok",
     "timestamp": 1599861146609,
     "user": {
      "displayName": "Nimra Sharnez",
      "photoUrl": "",
      "userId": "13843903423015333418"
     },
     "user_tz": 420
    },
    "id": "ELzJfLZDz2IY",
    "jupyter": {
     "outputs_hidden": true
    },
    "outputId": "18192508-041b-48a5-9fd3-8abc43948cbd"
   },
   "outputs": [
    {
     "data": {
      "text/plain": [
       "3"
      ]
     },
     "execution_count": 5,
     "metadata": {
      "tags": []
     },
     "output_type": "execute_result"
    }
   ],
   "source": [
    "# len()"
   ]
  },
  {
   "cell_type": "code",
   "execution_count": null,
   "metadata": {
    "colab": {},
    "colab_type": "code",
    "collapsed": true,
    "id": "OEUHq8Vuz2Ie",
    "jupyter": {
     "outputs_hidden": true
    }
   },
   "outputs": [],
   "source": [
    "# abs()"
   ]
  },
  {
   "cell_type": "code",
   "execution_count": null,
   "metadata": {
    "colab": {},
    "colab_type": "code",
    "collapsed": true,
    "id": "gMYlrD-sz2Ij",
    "jupyter": {
     "outputs_hidden": true
    }
   },
   "outputs": [],
   "source": [
    "# round()"
   ]
  },
  {
   "cell_type": "code",
   "execution_count": null,
   "metadata": {
    "colab": {},
    "colab_type": "code",
    "collapsed": true,
    "id": "3tUcXSzUz2Io",
    "jupyter": {
     "outputs_hidden": true
    }
   },
   "outputs": [],
   "source": [
    "# chr()"
   ]
  },
  {
   "cell_type": "markdown",
   "metadata": {
    "colab_type": "text",
    "id": "cPaHlXdJz2Iv"
   },
   "source": [
    "B) Write a python program that tells the user about your favorite movie. Tell them about the movie using the ```print()``` function, then ask the user what their name is and what their favorite movie is by using the ```input()``` function. After the user answers these questions, greet them and make a comment about their favorite movie.\n",
    "\n",
    "See the HW instructions for examples."
   ]
  },
  {
   "cell_type": "code",
   "execution_count": 4,
   "metadata": {
    "colab": {},
    "colab_type": "code",
    "collapsed": true,
    "executionInfo": {
     "elapsed": 375,
     "status": "ok",
     "timestamp": 1599858519003,
     "user": {
      "displayName": "Nimra Sharnez",
      "photoUrl": "",
      "userId": "13843903423015333418"
     },
     "user_tz": 420
    },
    "id": "OqnrJWqPz2Iv",
    "jupyter": {
     "outputs_hidden": true
    }
   },
   "outputs": [],
   "source": []
  },
  {
   "cell_type": "markdown",
   "metadata": {
    "colab_type": "text",
    "id": "o9bSv9T6z2Iz"
   },
   "source": [
    "C) Write a program that prompts the user for their height in inches, converts that amount to centimeters, and reports back the user’s height in both centimeters and meters. Use the ```round()``` function to round your answers to two decimal places.\n",
    "\n",
    "Note: to convert inches (“in”) to centimeters (“cm”), multiply the number of inches by 2.54. To convert centimeters to meters (“m”), divide the number of centimeters by 100.   \n",
    "\n",
    "See the HW instructions for examples of output."
   ]
  },
  {
   "cell_type": "code",
   "execution_count": null,
   "metadata": {
    "colab": {},
    "colab_type": "code",
    "collapsed": true,
    "id": "Kqta2pN3z2I0",
    "jupyter": {
     "outputs_hidden": true
    }
   },
   "outputs": [],
   "source": []
  },
  {
   "cell_type": "markdown",
   "metadata": {
    "colab_type": "text",
    "id": "9gcbFC32z2I5"
   },
   "source": [
    "D) Write a program that calculates the maximum occupancy of a room, given its length and width as reported by the user. We will use the following formula to calculate maximum occupancy:\n",
    "\n",
    "```number_of_people = area_of_the_room / 20```.\n",
    "\n",
    "Make sure that your reported occupancy does not include any partial people! (Hint: think about python’s different kinds of divide operators and casting to help you out!)\n",
    "\n",
    "See the write-up for examples of output, and remember to check your code with different inputs."
   ]
  },
  {
   "cell_type": "code",
   "execution_count": null,
   "metadata": {
    "colab": {},
    "colab_type": "code",
    "collapsed": true,
    "id": "CMjnYjA5z2I6",
    "jupyter": {
     "outputs_hidden": true
    }
   },
   "outputs": [],
   "source": []
  },
  {
   "cell_type": "markdown",
   "metadata": {
    "colab_type": "text",
    "id": "Lqu-8GC8z2I_"
   },
   "source": [
    "STOP\n",
    "========\n",
    "Before turning this notebook in: restart your kernel and run all cells. Make sure that there are no errors!\n",
    "\n",
    "Make sure you have renamed this notebook according to the homework write-up!"
   ]
  }
 ],
 "metadata": {
  "colab": {
   "name": "hw2_starter.ipynb",
   "provenance": []
  },
  "kernelspec": {
   "display_name": "Python 3 (ipykernel)",
   "language": "python",
   "name": "python3"
  },
  "language_info": {
   "codemirror_mode": {
    "name": "ipython",
    "version": 3
   },
   "file_extension": ".py",
   "mimetype": "text/x-python",
   "name": "python",
   "nbconvert_exporter": "python",
   "pygments_lexer": "ipython3",
   "version": "3.9.6"
  }
 },
 "nbformat": 4,
 "nbformat_minor": 4
}
