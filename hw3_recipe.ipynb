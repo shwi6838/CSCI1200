{
 "cells": [
  {
   "cell_type": "code",
   "execution_count": null,
   "id": "34c6e41f-47b6-40da-8e76-dd5f32abb706",
   "metadata": {},
   "outputs": [],
   "source": [
    "# Name: Shane Wierl\n",
    "# Section: 100\n",
    "# Homework: Baking Bonanza\n",
    "# Description: Use functions, and understand the scopes of variables and the main() function"
   ]
  },
  {
   "cell_type": "code",
   "execution_count": 25,
   "id": "5c9263c1-4116-453f-a2d6-784a12805f18",
   "metadata": {},
   "outputs": [
    {
     "name": "stdin",
     "output_type": "stream",
     "text": [
      "Who are you writing to? bill\n",
      "What is your greeting? hello\n",
      "What is your message? go to bed\n",
      "What is your signature? mom\n"
     ]
    },
    {
     "name": "stdout",
     "output_type": "stream",
     "text": [
      "\n",
      "Your letter:\n",
      "hello bill,\n",
      "GO TO BED\n",
      "mom\n"
     ]
    }
   ],
   "source": [
    "# Part 1: Letter warm Up\n",
    "\n",
    "who = input(\"Who are you writing to?\")\n",
    "greet = input(\"What is your greeting?\")\n",
    "message = input(\"What is your message?\")\n",
    "sign = input(\"What is your signature?\")\n",
    "print()\n",
    "print(\"Your letter:\")\n",
    "print(greet + \" \" + who + \",\")\n",
    "print(message.upper())\n",
    "print(sign)"
   ]
  },
  {
   "cell_type": "code",
   "execution_count": 88,
   "id": "c7adc8c2-ae5f-48cc-9db9-7dff5110352d",
   "metadata": {},
   "outputs": [
    {
     "name": "stdin",
     "output_type": "stream",
     "text": [
      "How many cupcakes do you want to make? 1\n"
     ]
    },
    {
     "name": "stdout",
     "output_type": "stream",
     "text": [
      "8.33 grams flour\n",
      "8.33 grams sugar\n",
      "8.33 grams butter\n",
      "0.17  eggs\n",
      "0.08 teaspooons vanilla\n",
      "0.08 teaspoons baking powder\n",
      "\n",
      "Now, for cups!\n",
      "0.07 cups flour\n",
      "0.04 cups sugar\n",
      "0.03 cups butter\n",
      "0.17  eggs\n",
      "0.08 teaspooons vanilla\n",
      "0.08 teaspoons baking powder\n"
     ]
    }
   ],
   "source": [
    "# Part 2: Baking Bonanza\n",
    "    \n",
    "def recipe_multiplier (num):\n",
    "    #takes a (int) number of cupcakes and returns a (float) output that is a conversion of 1 batch (12 cupcakes)\n",
    "    #Parameters are an int cupcakes input and a float multiplier output\n",
    "    global mult\n",
    "    mult = int(num)/12\n",
    "    return mult\n",
    "    \n",
    "def ingredients (mult, amount, name, unit):\n",
    "    #Takes inputs of the multiplier(float), basic recipe amount(int or float), \n",
    "    #name of ingredient(string), and the unit of measurement(string)\n",
    "    #Returns the amount of ingredient needed for the recipe in a string\n",
    "    ingredient_amount = round(float(amount) * mult, 2)\n",
    "    return(str(ingredient_amount) + \" \" + unit + \" \" + name)\n",
    "    \n",
    "def cups (amount, conversion):\n",
    "    #Takes in the basic amount needed for that ingredient and converts to cups\n",
    "    #Inputs of int or float, and a float conversion\n",
    "    #Outputs a float cups amount\n",
    "    cups = round(amount/conversion, 2)\n",
    "    return cups\n",
    "\n",
    "def main():\n",
    "    #Asks how many cupcakes the user wants to make and retruns a list of ingredients in both grams and cups amounts\n",
    "    #Input of a simple int and returns a list of strings\n",
    "    num = input(\"How many cupcakes do you want to make?\")\n",
    "    recipe_multiplier(num)\n",
    "    print(ingredients (mult, 100, \"flour\", \"grams\"))\n",
    "    print(ingredients (mult, 100, \"sugar\", \"grams\"))\n",
    "    print(ingredients (mult, 100, \"butter\", \"grams\"))\n",
    "    print(ingredients (mult, 2, \"eggs\", \"\"))\n",
    "    print(ingredients (mult, 1, \"vanilla\", \"teaspooons\"))\n",
    "    print(ingredients (mult, 1, \"baking powder\", \"teaspoons\"))\n",
    "    \n",
    "    flour_cups = cups(100,120)\n",
    "    #print(flour_cups)\n",
    "    sugar_cups = cups(100,200)\n",
    "    butter_cups = cups(100,240)\n",
    "    \n",
    "    print()\n",
    "    print(\"Now, for cups!\")\n",
    "    print(ingredients (mult, flour_cups, \"flour\", \"cups\"))\n",
    "    print(ingredients (mult, sugar_cups, \"sugar\", \"cups\"))\n",
    "    print(ingredients (mult, butter_cups, \"butter\", \"cups\"))\n",
    "    print(ingredients (mult, 2, \"eggs\", \"\"))\n",
    "    print(ingredients (mult, 1, \"vanilla\", \"teaspooons\"))\n",
    "    print(ingredients (mult, 1, \"baking powder\", \"teaspoons\"))\n",
    "\n",
    "main()"
   ]
  },
  {
   "cell_type": "markdown",
   "id": "8ab746ac-2da3-4ae0-b2f5-2bf9bef4e393",
   "metadata": {},
   "source": [
    "# "
   ]
  }
 ],
 "metadata": {
  "kernelspec": {
   "display_name": "Python 3 (ipykernel)",
   "language": "python",
   "name": "python3"
  },
  "language_info": {
   "codemirror_mode": {
    "name": "ipython",
    "version": 3
   },
   "file_extension": ".py",
   "mimetype": "text/x-python",
   "name": "python",
   "nbconvert_exporter": "python",
   "pygments_lexer": "ipython3",
   "version": "3.9.6"
  }
 },
 "nbformat": 4,
 "nbformat_minor": 5
}
