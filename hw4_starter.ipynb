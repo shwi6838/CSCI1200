{
 "cells": [
  {
   "cell_type": "code",
   "execution_count": null,
   "metadata": {
    "id": "ZI2BsEbuLtrK"
   },
   "outputs": [],
   "source": [
    "# Your name and file comment here"
   ]
  },
  {
   "cell_type": "markdown",
   "metadata": {
    "id": "iKBaHu0wLtrP"
   },
   "source": [
    "Problem 1 - Dog Food Ad (7 points)\n",
    "----------------------"
   ]
  },
  {
   "cell_type": "code",
   "execution_count": null,
   "metadata": {
    "id": "T79H3w96LtrR"
   },
   "outputs": [],
   "source": []
  },
  {
   "cell_type": "markdown",
   "metadata": {
    "id": "wU_DEBZlLtrR"
   },
   "source": [
    "Problem 2 - Dog/Cat Ads (10 points)\n",
    "---------------------------"
   ]
  },
  {
   "cell_type": "code",
   "execution_count": null,
   "metadata": {
    "id": "T3w0vTFsLtrS"
   },
   "outputs": [],
   "source": []
  },
  {
   "cell_type": "markdown",
   "metadata": {
    "id": "PDfzdAcfLtrS"
   },
   "source": [
    "Problem 3 - Boulder Ads (8 points)\n",
    "---------------------------"
   ]
  },
  {
   "cell_type": "code",
   "execution_count": null,
   "metadata": {
    "id": "RKH_Qqg4LtrS"
   },
   "outputs": [],
   "source": []
  },
  {
   "cell_type": "markdown",
   "metadata": {
    "id": "7sxXY64tLtrT"
   },
   "source": [
    "Problem 4 - Completing Your Program (10 points)\n",
    "--------------------"
   ]
  },
  {
   "cell_type": "code",
   "execution_count": null,
   "metadata": {
    "id": "YmHn4W3tLtrU"
   },
   "outputs": [],
   "source": [
    "# Implement your main() here\n",
    "\n",
    "# don't forget to call main()!"
   ]
  },
  {
   "cell_type": "markdown",
   "metadata": {
    "id": "2rezXWwOLtrU"
   },
   "source": [
    "__Stop!__ Make sure that you have restarted your kernel and run all the cells in your notebook before turning it in!"
   ]
  }
 ],
 "metadata": {
  "colab": {
   "name": "hw4_starter.ipynb",
   "provenance": []
  },
  "kernelspec": {
   "display_name": "Python 3 (ipykernel)",
   "language": "python",
   "name": "python3"
  },
  "language_info": {
   "codemirror_mode": {
    "name": "ipython",
    "version": 3
   },
   "file_extension": ".py",
   "mimetype": "text/x-python",
   "name": "python",
   "nbconvert_exporter": "python",
   "pygments_lexer": "ipython3",
   "version": "3.9.6"
  }
 },
 "nbformat": 4,
 "nbformat_minor": 4
}
