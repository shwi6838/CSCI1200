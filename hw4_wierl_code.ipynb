{
 "cells": [
  {
   "cell_type": "code",
   "execution_count": 1,
   "metadata": {
    "id": "ZI2BsEbuLtrK"
   },
   "outputs": [],
   "source": [
    "# Name: Shane Wierl\n",
    "# Section: 100\n",
    "# Homework: Personalized ads\n",
    "# Description: To use if, if/else statments, and to implement and use decisions"
   ]
  },
  {
   "cell_type": "markdown",
   "metadata": {
    "id": "iKBaHu0wLtrP"
   },
   "source": [
    "Problem 1 - Dog Food Ad (7 points)\n",
    "----------------------"
   ]
  },
  {
   "cell_type": "code",
   "execution_count": 2,
   "metadata": {
    "id": "T79H3w96LtrR"
   },
   "outputs": [],
   "source": [
    "def owns_dog():\n",
    "    dog = input(\"Do you have a dog?\")\n",
    "    dog = dog.lower()\n",
    "#changes yes or no answer to lowercase for easy use in the if statements\n",
    "    if dog == \"yes\":\n",
    "        return True\n",
    "    if dog == \"no\":\n",
    "        return False\n",
    "#Asks if owner has a dog and changes their yes/no answer to a boolean\n",
    "                \n",
    "def serve_ad_based_on_dog(bool):\n",
    "    if bool == True:\n",
    "        return(\"Ad: Is your Dog tired of same old dog food? Try our new all natural beef treats for your furry friend!\")\n",
    "    if bool == False:\n",
    "        return(\"Ad: Are you lonely? Sign up today for Tinder and meet people and singles near you!\")\n",
    "#Takes an boolean and prints a dog ad if true (person has a dog) and another ad if false (person doesn't have a dog)"
   ]
  },
  {
   "cell_type": "markdown",
   "metadata": {
    "id": "wU_DEBZlLtrR"
   },
   "source": [
    "Problem 2 - Dog/Cat Ads (10 points)\n",
    "---------------------------"
   ]
  },
  {
   "cell_type": "code",
   "execution_count": 3,
   "metadata": {
    "id": "T3w0vTFsLtrS"
   },
   "outputs": [],
   "source": [
    "def int_question(str):\n",
    "    answer = input(str)\n",
    "    a = answer.isdecimal()\n",
    "#Checks if string answer is a number and returns a boolean\n",
    "    if a == False:\n",
    "        return(\"Not an Int\")\n",
    "        return 0\n",
    "    if a == True:\n",
    "        if int(answer) < 0:\n",
    "            return(\"Value must be 0 or greater\")\n",
    "            return 0\n",
    "        if int(answer) >= 0:\n",
    "            return int(answer)\n",
    "#First checks the boolean to check if answer is an int\n",
    "#Then checks if the answer is greater than 0 and returns the answer if it is 0 or greater\n",
    "#If the answer is not an int or is less than zero, returns 0\n",
    "\n",
    "def serve_ad_based_on_friends(int):\n",
    "    if int >= 500:\n",
    "        return(\"Ad with Dog: Buy our all new natural dog food made with fresh meat and organic ingredients!\")\n",
    "    if int < 500:\n",
    "        return(\"Ad with Cat: Buy our new and improved cat toy that will keep your cat entertained for hours!\")\n",
    "#Checks int and sees value. If it is greater or eual to 500, gives a dog ad and if less than 500 gives a cat ad"
   ]
  },
  {
   "cell_type": "markdown",
   "metadata": {
    "id": "PDfzdAcfLtrS"
   },
   "source": [
    "Problem 3 - Boulder Ads (8 points)\n",
    "---------------------------"
   ]
  },
  {
   "cell_type": "code",
   "execution_count": 4,
   "metadata": {
    "id": "RKH_Qqg4LtrS"
   },
   "outputs": [],
   "source": [
    "def serve_ad_based_on_zip_age(zipcode, age):\n",
    "    if zipcode >= 80301 and zipcode <= 80310 and age >= 25:\n",
    "        return(\"Expensive Product ad: Buy our new couch and coffee table set for your apartment!\")\n",
    "    if zipcode >= 80301 and zipcode <= 80310 and age > 25:\n",
    "        return(\"Cheap Product Ad: Need more decoration? Get new Colorado themed posters to cover your wall in!\")\n",
    "    else:\n",
    "        return(\"Tourist Ad: Come to Boulder, the prettiest city in the west! Banked right against the Rocky Mountains, you will always see amazing views!\")\n",
    "#Takes zipcode and age and determines if the user lives in boulder, and if they are old enough for a more expensive product ad"
   ]
  },
  {
   "cell_type": "markdown",
   "metadata": {
    "id": "7sxXY64tLtrT"
   },
   "source": [
    "Problem 4 - Completing Your Program (10 points)\n",
    "--------------------"
   ]
  },
  {
   "cell_type": "code",
   "execution_count": 5,
   "metadata": {
    "id": "YmHn4W3tLtrU"
   },
   "outputs": [
    {
     "name": "stdin",
     "output_type": "stream",
     "text": [
      "What level of ad personalization would you like? Pick 1, 2, or 3. 2\n",
      "How many Facebook Friends do you have? 436\n"
     ]
    },
    {
     "name": "stdout",
     "output_type": "stream",
     "text": [
      "Ad with Cat: Buy our new and improved cat toy that will keep your cat entertained for hours!\n"
     ]
    }
   ],
   "source": [
    "# Implement your main() here\n",
    "def main():\n",
    "    val = int_question(\"What level of ad personalization would you like? Pick 1, 2, or 3.\")\n",
    "    if val == 1:\n",
    "        d = owns_dog()\n",
    "        print(serve_ad_based_on_dog(d))\n",
    "    if val == 2:\n",
    "        pet_ad = int_question(\"How many Facebook Friends do you have?\")\n",
    "        print(serve_ad_based_on_friends(pet_ad))\n",
    "    if val == 3:\n",
    "        zipcode = int_question(\"What is your zipcode?\")\n",
    "        age = int_question(\"How old are you?\")\n",
    "        print(serve_ad_based_on_zip_age(zipcode, age))\n",
    "#Asks what level ad the user wants and returns that ad for each value by first asking them a question\n",
    "# don't forget to call main()!\n",
    "main()"
   ]
  },
  {
   "cell_type": "markdown",
   "metadata": {
    "id": "2rezXWwOLtrU"
   },
   "source": [
    "__Stop!__ Make sure that you have restarted your kernel and run all the cells in your notebook before turning it in!"
   ]
  }
 ],
 "metadata": {
  "colab": {
   "name": "hw4_starter.ipynb",
   "provenance": []
  },
  "kernelspec": {
   "display_name": "Python 3 (ipykernel)",
   "language": "python",
   "name": "python3"
  },
  "language_info": {
   "codemirror_mode": {
    "name": "ipython",
    "version": 3
   },
   "file_extension": ".py",
   "mimetype": "text/x-python",
   "name": "python",
   "nbconvert_exporter": "python",
   "pygments_lexer": "ipython3",
   "version": "3.9.6"
  }
 },
 "nbformat": 4,
 "nbformat_minor": 4
}
