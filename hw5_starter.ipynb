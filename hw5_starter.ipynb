{
 "cells": [
  {
   "cell_type": "code",
   "execution_count": 1,
   "metadata": {
    "tags": []
   },
   "outputs": [],
   "source": [
    "# TODO: delete this comment and replace it with the header comment\n",
    "# that includes your name, the section of 1200 that you are registered for,\n",
    "# the homework name, and a brief description of what it does "
   ]
  },
  {
   "cell_type": "markdown",
   "metadata": {},
   "source": [
    "Game of Chance!\n",
    "================\n",
    "--------"
   ]
  },
  {
   "cell_type": "code",
   "execution_count": 1,
   "metadata": {},
   "outputs": [],
   "source": [
    "#You will need this module imported here\n",
    "import random"
   ]
  },
  {
   "cell_type": "code",
   "execution_count": 2,
   "metadata": {},
   "outputs": [],
   "source": [
    "# You will need to write code for this function to complete the assignment.\n",
    "\n",
    "def st_petersburg_lottery():\n",
    "    print(\"###### St. Petersburg Lottery ######\")\n",
    "    print(\"Instructions:\")\n",
    "    print(\"You will select any number greater than 0.\")\n",
    "    print(\"Up to the number of times you chose, we will randomly choose 0 or 1.\")\n",
    "    print(\"If a 1 is chosen before the last drawing, then you lose.\")\n",
    "    print(\"If a 1 does not appear at all, then you lose.\")\n",
    "    print(\"You win if 1 is chosen for the first time exactly on the last drawing.\")\n",
    "    print()\n",
    "    \n",
    "    # TODO: implement your solution here"
   ]
  },
  {
   "cell_type": "code",
   "execution_count": 3,
   "metadata": {},
   "outputs": [],
   "source": [
    "# You will need to write code for this function to complete the assignment.\n",
    "\n",
    "def first_to_a_word():\n",
    "    print(\"###### First to a Word ######\")\n",
    "    print(\"Instructions:\")\n",
    "    print(\"You will take turns choosing letters one at a time until a word is formed.\")\n",
    "    print(\"After each letter is chosen you will have a chance to confirm whether or not a word has been formed\")\n",
    "    print(\"When a word is formed, the player who played the last letter wins!\")\n",
    "    print(\"One of you has been chosen at random to initiate the game.\")\n",
    "    print()\n",
    "    print(\"Note: Words must be longer than a single letter!\")\n",
    "    print()\n",
    "    \n",
    "    # TODO: implement your solution here"
   ]
  },
  {
   "cell_type": "code",
   "execution_count": 9,
   "metadata": {},
   "outputs": [],
   "source": [
    "# You will need to write code for this function to complete the assignment.\n",
    "\n",
    "def game_of_21():\n",
    "    print(\"###### Game of 21 ######\")\n",
    "    print(\"Instructions:\")\n",
    "    print(\"Starting from 1, you will take turns saying a number that is 1, 2, or 3 greater than the previous number.\")\n",
    "    print(\"The first player always starts by saying 1.\")\n",
    "    print(\"The player who says 21 loses.\")\n",
    "    print(\"You may not say a number greater than 21.\")\n",
    "    print(\"One of you has been chosen at random to initiate the game.\")\n",
    "    print()\n",
    "    \n",
    "    # TODO: implement your solution here"
   ]
  },
  {
   "cell_type": "code",
   "execution_count": 14,
   "metadata": {},
   "outputs": [],
   "source": [
    "# You will need to write code for this function to complete the assignment.\n",
    "\n",
    "def display_menu():\n",
    "    # TODO: implement your solution here\n",
    "    \n",
    "    return choice"
   ]
  },
  {
   "cell_type": "code",
   "execution_count": 15,
   "metadata": {},
   "outputs": [],
   "source": [
    "def main():\n",
    "    # Below you will find comments that you are supposed to replace with code.\n",
    "    # You should not need to change anything other than inserting code into those spots.\n",
    "    # Note: This main is meant to give you a solid starting point on the rest of the assignment! \n",
    "    #       Think about why/how we call certain functions at certain points to get context clues that could help in implementing the functions! \n",
    "    \n",
    "    # TODO: replace commented lines with correct values and function calls\n",
    "    print(\"Welcome to the Game of Chance!\")\n",
    "    \n",
    "    # still_playing = # TODO: what value should still_playing have here?\n",
    "    while(still_playing):\n",
    "        print()\n",
    "        # game_chosen = # TODO: what function gets the input from the user to determine which game to play?\n",
    "        if game_chosen == 1:\n",
    "            # TODO: replace this with the first game\n",
    "            pass # can get rid of this line after you fill in your answer\n",
    "        elif game_chosen == 2:\n",
    "            # TODO: replace this with the second game\n",
    "            pass # can get rid of this line after you fill in your answer\n",
    "        elif game_chosen == 3:\n",
    "            # TODO: replace this with the third game\n",
    "            pass # can get rid of this line after you fill in your answer\n",
    "        else:\n",
    "            print(\"We will now exit the Game of Chance.\")\n",
    "            print(\"Thank you for playing!\")\n",
    "            # still_playing = # TODO: what value should still_playing have to exit the while loop?"
   ]
  },
  {
   "cell_type": "code",
   "execution_count": 18,
   "metadata": {
    "collapsed": false,
    "jupyter": {
     "outputs_hidden": false
    }
   },
   "outputs": [],
   "source": [
    "# main() # TODO: uncomment this when still_playing value is appropriately set "
   ]
  },
  {
   "cell_type": "markdown",
   "metadata": {},
   "source": [
    "Bonus:\n",
    "-----------\n",
    "Implement your own game. Your game must include a while loop. Bonus credit will be scaled according to the complexity of the game. **Don't forget to update you menu to include the new option!**"
   ]
  },
  {
   "cell_type": "code",
   "execution_count": null,
   "metadata": {
    "collapsed": true,
    "jupyter": {
     "outputs_hidden": true
    }
   },
   "outputs": [],
   "source": []
  }
 ],
 "metadata": {
  "kernelspec": {
   "display_name": "Python 3 (ipykernel)",
   "language": "python",
   "name": "python3"
  },
  "language_info": {
   "codemirror_mode": {
    "name": "ipython",
    "version": 3
   },
   "file_extension": ".py",
   "mimetype": "text/x-python",
   "name": "python",
   "nbconvert_exporter": "python",
   "pygments_lexer": "ipython3",
   "version": "3.9.6"
  }
 },
 "nbformat": 4,
 "nbformat_minor": 4
}
