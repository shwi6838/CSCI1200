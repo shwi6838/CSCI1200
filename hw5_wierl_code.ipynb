{
 "cells": [
  {
   "cell_type": "code",
   "execution_count": 1,
   "metadata": {
    "tags": []
   },
   "outputs": [],
   "source": [
    "# Name: Shane Wierl\n",
    "# Section: 100\n",
    "# Homework: Game of Chance\n",
    "# Description: Leran and use while loops and nested loops"
   ]
  },
  {
   "cell_type": "markdown",
   "metadata": {},
   "source": [
    "Game of Chance!\n",
    "================\n",
    "--------"
   ]
  },
  {
   "cell_type": "code",
   "execution_count": 2,
   "metadata": {},
   "outputs": [],
   "source": [
    "#You will need this module imported here\n",
    "import random"
   ]
  },
  {
   "cell_type": "code",
   "execution_count": 3,
   "metadata": {},
   "outputs": [],
   "source": [
    "# You will need to write code for this function to complete the assignment.\n",
    "\n",
    "def st_petersburg_lottery():\n",
    "    print(\"###### St. Petersburg Lottery ######\")\n",
    "    print(\"Instructions:\")\n",
    "    print(\"You will select any number greater than 0.\")\n",
    "    print(\"Up to the number of times you chose, we will randomly choose 0 or 1.\")\n",
    "    print(\"If a 1 is chosen before the last drawing, then you lose.\")\n",
    "    print(\"If a 1 does not appear at all, then you lose.\")\n",
    "    print(\"You win if 1 is chosen for the first time exactly on the last drawing.\")\n",
    "    print()\n",
    "    p1 = input(\"Enter Player's Name:\")\n",
    "    print()\n",
    "    turn = 0\n",
    "    draw = int(input(\"How many times do you think we will need to draw numbers before a 1 appears?\"))\n",
    "    while turn < draw:\n",
    "        number = random.randint(0,1)\n",
    "        print (number)\n",
    "        turn+=1\n",
    "        if number == 1:\n",
    "            print(\"Sorry, \" + p1 + \" you lose! Better Luck Next Time!\")\n",
    "            turn=draw+1\n",
    "        if number == 0:\n",
    "            turn+=1\n",
    "        if turn == draw:\n",
    "            number = random.randint(0,1)\n",
    "            print (number)\n",
    "            if number == 1:\n",
    "                print(\"Congratulations, \" + p1 + \" You Win!\")\n",
    "            if number == 0:\n",
    "                 print(\"Sorry, \" + p1 + \" you lose! Better Luck Next Time!\")\n",
    "                \n",
    "#st_petersburg_lottery()"
   ]
  },
  {
   "cell_type": "code",
   "execution_count": 4,
   "metadata": {},
   "outputs": [],
   "source": [
    "# You will need to write code for this function to complete the assignment.\n",
    "\n",
    "def first_to_a_word():\n",
    "    print(\"###### First to a Word ######\")\n",
    "    print(\"Instructions:\")\n",
    "    print(\"You will take turns choosing letters one at a time until a word is formed.\")\n",
    "    print(\"After each letter is chosen you will have a chance to confirm whether or not a word has been formed\")\n",
    "    print(\"When a word is formed, the player who played the last letter wins!\")\n",
    "    print(\"One of you has been chosen at random to initiate the game.\")\n",
    "    print()\n",
    "    print(\"Note: Words must be longer than a single letter!\")\n",
    "    print()\n",
    "    who = random.randint(0,1)\n",
    "    if who == 0:\n",
    "        first = p1\n",
    "        second = p2\n",
    "    if who == 1:\n",
    "        first = p2\n",
    "        second = p1\n",
    "    game = True\n",
    "    turn = 2\n",
    "    word = \"\"\n",
    "    while game == True:\n",
    "        if turn %2 == 0:\n",
    "            letter = input(first + \", What letter are you adding?\")\n",
    "            word = word + letter\n",
    "            print(word)\n",
    "            turn +=1\n",
    "            if len >= 2:\n",
    "                yn = input(\"Has a word been made? y/n\")\n",
    "                if yn.upper() == \"Y\" and turn %2 == 0:\n",
    "                    print(\"Congratulations, \" + first + \" You Win!\")\n",
    "                    game = False\n",
    "                if yn.upper() == \"Y\" and turn %2 != 2:\n",
    "                    print(\"Congratulations, \" + second + \" You Win!\")\n",
    "                    game = False\n",
    "                if yn.upper() == \"N\":\n",
    "                    turn=turn\n",
    "                    game = True\n",
    "        if turn %2 == 0:\n",
    "            letter = input(second + \", What letter are you adding?\")\n",
    "            word = word + letter\n",
    "            print(word)\n",
    "            turn +=1\n",
    "            if len >= 2:\n",
    "                yn = input(\"Has a word been made? y/n\")\n",
    "                if yn.upper() == \"Y\" and turn %2 == 0:\n",
    "                    print(\"Congratulations, \" + second + \" You Win!\")\n",
    "                    game = False\n",
    "                if yn.upper() == \"Y\" and turn %2 != 2:\n",
    "                    print(\"Congratulations, \" + first + \" You Win!\")\n",
    "                    game = False\n",
    "                if yn.upper() == \"N\":\n",
    "                    turn=turn\n",
    "                    game = True\n"
   ]
  },
  {
   "cell_type": "code",
   "execution_count": 5,
   "metadata": {},
   "outputs": [],
   "source": [
    "# You will need to write code for this function to complete the assignment.\n",
    "\n",
    "def game_of_21():\n",
    "    print(\"###### Game of 21 ######\")\n",
    "    print(\"Instructions:\")\n",
    "    print(\"Starting from 1, you will take turns saying a number that is 1, 2, or 3 greater than the previous number.\")\n",
    "    print(\"The first player always starts by saying 1.\")\n",
    "    print(\"The player who says 21 loses.\")\n",
    "    print(\"You may not say a number greater than 21.\")\n",
    "    print(\"One of you has been chosen at random to initiate the game.\")\n",
    "    print()\n",
    "    p1 = input(\"Who is player 1?\")\n",
    "    p2 = input(\"Who is player 2?\")\n",
    "    print()\n",
    "    who = random.randint(0,1)\n",
    "    if who == 0:\n",
    "        first = p1\n",
    "        second = p2\n",
    "    if who == 1:\n",
    "        first = p2\n",
    "        second = p1\n",
    "    turn = 2\n",
    "    total = 1\n",
    "    \n",
    "    if total >= 21:\n",
    "            print(\"Game over\")\n",
    "            if turn %2 ==0:\n",
    "                print(second + \", You Lost\")\n",
    "            if turn %2 !=0:\n",
    "                print(first + \", You Lost\")\n",
    "    \n",
    "    while total < 21:\n",
    "        if turn %2 == 0:\n",
    "            print(\"The total is \" + str(total))\n",
    "            number = int(input(first + \", will you add 1, 2, or 3? You must not exceed 21\"))\n",
    "            total = total + number\n",
    "            print(first + \" says \" + str(total))\n",
    "            print()\n",
    "            turn +=1\n",
    "        if turn %2 != 0:\n",
    "            print(\"The total is \" + str(total))\n",
    "            number = int(input(second + \", will you add 1, 2, or 3? You must not exceed 21\"))\n",
    "            total = total + number\n",
    "            print(second + \" says \" + str(total))\n",
    "            print()\n",
    "            turn +=1\n",
    "\n",
    "#game_of_21()"
   ]
  },
  {
   "cell_type": "code",
   "execution_count": 6,
   "metadata": {},
   "outputs": [],
   "source": [
    "# You will need to write code for this function to complete the assignment.\n",
    "\n",
    "def display_menu():\n",
    "    print(\"~=[Menu]=~\")\n",
    "    print(\"1 - St. Petersburg Lottery\")\n",
    "    print(\"2 - First to a Word\")\n",
    "    print(\"3 - The game of 21\")\n",
    "    print(\"4 - Exit the Game of Chance\")\n",
    "    print()\n",
    "    choice = int(input(\"Which Game would you like to play?\"))\n",
    "    print()\n",
    "    return choice"
   ]
  },
  {
   "cell_type": "code",
   "execution_count": 7,
   "metadata": {},
   "outputs": [],
   "source": [
    "def main():\n",
    "    # Below you will find comments that you are supposed to replace with code.\n",
    "    # You should not need to change anything other than inserting code into those spots.\n",
    "    # Note: This main is meant to give you a solid starting point on the rest of the assignment! \n",
    "    # Think about why/how we call certain functions at certain points to get context clues that could help in implementing the functions! \n",
    "    \n",
    "    # TODO: replace commented lines with correct values and function calls\n",
    "    print(\"Welcome to the Game of Chance!\")\n",
    "    still_playing = True\n",
    "    while still_playing == True:\n",
    "        print()\n",
    "        game_chosen = display_menu()\n",
    "        if game_chosen == 1:\n",
    "            st_petersburg_lottery()\n",
    "            pass \n",
    "        elif game_chosen == 2:\n",
    "            first_to_a_word()\n",
    "            pass \n",
    "        elif game_chosen == 3:\n",
    "            game_of_21()\n",
    "            pass \n",
    "        else:\n",
    "            print(\"We will now exit the Game of Chance.\")\n",
    "            print(\"Thank you for playing!\")\n",
    "            still_playing = False"
   ]
  },
  {
   "cell_type": "code",
   "execution_count": 8,
   "metadata": {
    "collapsed": false,
    "jupyter": {
     "outputs_hidden": false
    }
   },
   "outputs": [
    {
     "name": "stdout",
     "output_type": "stream",
     "text": [
      "Welcome to the Game of Chance!\n",
      "\n",
      "~=[Menu]=~\n",
      "1 - St. Petersburg Lottery\n",
      "2 - First to a Word\n",
      "3 - The game of 21\n",
      "4 - Exit the Game of Chance\n",
      "\n"
     ]
    },
    {
     "name": "stdin",
     "output_type": "stream",
     "text": [
      "Which Game would you like to play? 4\n"
     ]
    },
    {
     "name": "stdout",
     "output_type": "stream",
     "text": [
      "\n",
      "We will now exit the Game of Chance.\n",
      "Thank you for playing!\n"
     ]
    }
   ],
   "source": [
    "main() "
   ]
  },
  {
   "cell_type": "markdown",
   "metadata": {},
   "source": [
    "Bonus:\n",
    "-----------\n",
    "Implement your own game. Your game must include a while loop. Bonus credit will be scaled according to the complexity of the game. **Don't forget to update you menu to include the new option!**"
   ]
  },
  {
   "cell_type": "code",
   "execution_count": null,
   "metadata": {
    "collapsed": true,
    "jupyter": {
     "outputs_hidden": true
    }
   },
   "outputs": [],
   "source": []
  }
 ],
 "metadata": {
  "kernelspec": {
   "display_name": "Python 3 (ipykernel)",
   "language": "python",
   "name": "python3"
  },
  "language_info": {
   "codemirror_mode": {
    "name": "ipython",
    "version": 3
   },
   "file_extension": ".py",
   "mimetype": "text/x-python",
   "name": "python",
   "nbconvert_exporter": "python",
   "pygments_lexer": "ipython3",
   "version": "3.9.6"
  }
 },
 "nbformat": 4,
 "nbformat_minor": 4
}
