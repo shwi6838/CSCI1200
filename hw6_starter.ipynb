{
 "cells": [
  {
   "cell_type": "code",
   "execution_count": null,
   "metadata": {},
   "outputs": [],
   "source": [
    "# your file comment here"
   ]
  },
  {
   "cell_type": "markdown",
   "metadata": {},
   "source": [
    "College Admissions Algorithms\n",
    "================\n",
    "--------"
   ]
  },
  {
   "cell_type": "code",
   "execution_count": null,
   "metadata": {},
   "outputs": [],
   "source": [
    "# Provided code\n",
    "# This function checks to ensure that a list is of length\n",
    "# 8 and that each element is type float\n",
    "# Parameters:\n",
    "# row - a list to check\n",
    "# Returns True if the length of row is 8 and all elements are floats\n",
    "def check_row_types(row):\n",
    "    if len(row) != 8:\n",
    "        print(\"Length incorrect! (should be 8): \" + str(row))\n",
    "        return False\n",
    "    ind = 0\n",
    "    while ind < len(row):\n",
    "        if type(row[ind]) != float:\n",
    "            print(\"Type of element incorrect: \" + str(row[ind]) + \" which is \" + str(type(row[ind])))\n",
    "            return False\n",
    "        ind += 1\n",
    "    return True"
   ]
  },
  {
   "cell_type": "code",
   "execution_count": null,
   "metadata": {},
   "outputs": [],
   "source": [
    "# define your functions here"
   ]
  },
  {
   "cell_type": "code",
   "execution_count": null,
   "metadata": {},
   "outputs": [],
   "source": [
    "def main():\n",
    "    # Change this line of code as needed but \n",
    "    # make sure to change it back to \"superheroes_large.csv\"\n",
    "    # before turning in your work!\n",
    "    filename = \"superheroes_large.csv\"\n",
    "    input_file = open(filename, \"r\")    \n",
    "    \n",
    "    \n",
    "    print(\"Processing \" + filename + \"...\")\n",
    "    # grab the line with the headers\n",
    "    headers = input_file.readline()\n",
    "    \n",
    "    \n",
    "    # TODO: loop through the rest of the file\n",
    "    \n",
    "    \n",
    "    \n",
    "    \n",
    "    # TODO: make sure to close all files you've opened!\n",
    "    \n",
    "    print(\"done!\")\n",
    "\n",
    "        \n",
    "   "
   ]
  },
  {
   "cell_type": "code",
   "execution_count": null,
   "metadata": {},
   "outputs": [],
   "source": [
    "main()"
   ]
  },
  {
   "cell_type": "code",
   "execution_count": null,
   "metadata": {},
   "outputs": [],
   "source": []
  }
 ],
 "metadata": {
  "kernelspec": {
   "display_name": "Python 3",
   "language": "python",
   "name": "python3"
  },
  "language_info": {
   "codemirror_mode": {
    "name": "ipython",
    "version": 3
   },
   "file_extension": ".py",
   "mimetype": "text/x-python",
   "name": "python",
   "nbconvert_exporter": "python",
   "pygments_lexer": "ipython3",
   "version": "3.7.3"
  }
 },
 "nbformat": 4,
 "nbformat_minor": 4
}
