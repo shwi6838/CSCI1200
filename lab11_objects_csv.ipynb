{
 "cells": [
  {
   "cell_type": "markdown",
   "metadata": {
    "id": "Xd4ogbQxuKpR"
   },
   "source": [
    "# Lab 11 - CSCI 1200\n",
    "\n",
    "***\n",
    "Welcome to the lab, today we will be learning about:\n",
    "1. Using objects to store named variables\n",
    "2. Reading csv files as nested lists"
   ]
  },
  {
   "cell_type": "markdown",
   "metadata": {
    "ExecuteTime": {
     "end_time": "2018-08-29T01:05:33.512684Z",
     "start_time": "2018-08-29T01:05:33.504659Z"
    },
    "id": "CHvLEoV6uKpX"
   },
   "source": [
    "# Objects\n",
    "***\n",
    "\n",
    "In this section we will look at a nested list (a list of lists) and use an object to refer to specific columns within that list.\n",
    "\n",
    "Remember: when we have a list of lists, it's useful to think of it as a table of data. Each sublist is one row of data, and within each row there are a certain number of columns.\n",
    "\n",
    "\n",
    "Say we have the following data:\n",
    "\n",
    "\n",
    "id | name | skills\n",
    "---|---|---\n",
    "1 | \"Jon Snow\" | 10\n",
    "2 | \"Jaqen H'ghar\" | 100\n",
    "4 | \"Tyrion Lannister\" | 85\n",
    "6 | \"Arya Stark\" | 45\n"
   ]
  },
  {
   "cell_type": "code",
   "execution_count": 1,
   "metadata": {
    "executionInfo": {
     "elapsed": 6,
     "status": "ok",
     "timestamp": 1635909019545,
     "user": {
      "displayName": "Chinmay Agrawal",
      "photoUrl": "https://lh3.googleusercontent.com/a-/AOh14GguCWRwXEhyLDQr4STMLFYTlzaMGj8ivblbk89_=s64",
      "userId": "08893868986297293808"
     },
     "user_tz": 360
    },
    "id": "rVbsqE2AuKpY"
   },
   "outputs": [],
   "source": [
    "# let's take a look at using one of these objects\n",
    "# to index into a list of lists.\n",
    "# We've gone ahead and put the above data into a list of lists here\n",
    "data = [[1, \"Jon Snow\", 10], [2, \"Jaqen H'ghar\", 100], [4, \"Tyrion Lannister\", 85], [6, \"Arya Stark\", 45]]"
   ]
  },
  {
   "cell_type": "code",
   "execution_count": 2,
   "metadata": {
    "executionInfo": {
     "elapsed": 170,
     "status": "ok",
     "timestamp": 1635909020928,
     "user": {
      "displayName": "Chinmay Agrawal",
      "photoUrl": "https://lh3.googleusercontent.com/a-/AOh14GguCWRwXEhyLDQr4STMLFYTlzaMGj8ivblbk89_=s64",
      "userId": "08893868986297293808"
     },
     "user_tz": 360
    },
    "id": "9H2JnA-xuKpZ"
   },
   "outputs": [],
   "source": [
    "# First, how many rows does the variable data contain?"
   ]
  },
  {
   "cell_type": "code",
   "execution_count": 3,
   "metadata": {
    "executionInfo": {
     "elapsed": 243,
     "status": "ok",
     "timestamp": 1635909021904,
     "user": {
      "displayName": "Chinmay Agrawal",
      "photoUrl": "https://lh3.googleusercontent.com/a-/AOh14GguCWRwXEhyLDQr4STMLFYTlzaMGj8ivblbk89_=s64",
      "userId": "08893868986297293808"
     },
     "user_tz": 360
    },
    "id": "1J1YcfBIuKpa"
   },
   "outputs": [],
   "source": [
    "# Second, how many columns are in the first row of this data?"
   ]
  },
  {
   "cell_type": "code",
   "execution_count": 4,
   "metadata": {
    "executionInfo": {
     "elapsed": 6,
     "status": "ok",
     "timestamp": 1635909022505,
     "user": {
      "displayName": "Chinmay Agrawal",
      "photoUrl": "https://lh3.googleusercontent.com/a-/AOh14GguCWRwXEhyLDQr4STMLFYTlzaMGj8ivblbk89_=s64",
      "userId": "08893868986297293808"
     },
     "user_tz": 360
    },
    "id": "I8zOq7ICuKpa"
   },
   "outputs": [],
   "source": [
    "\n",
    "# This is a definition of an object. It's job for us will be\n",
    "# to give readable names to each one of our columns.\n",
    "class GoTData:\n",
    "    id = 0\n",
    "    name = 1\n",
    "    skills = 2"
   ]
  },
  {
   "cell_type": "code",
   "execution_count": null,
   "metadata": {
    "id": "T7VGWr-wuKpb"
   },
   "outputs": [],
   "source": [
    "# when we use this GoTData object, we write GoTData.name_of_column\n",
    "# \n",
    "# For example:\n",
    "# GoTData.id\n",
    "# GoTData.name\n",
    "data[0][GoTData.skills]\n",
    "\n",
    "# this is so that we don't have random numbers floating around in our \n",
    "# code so that we can understand what column we're talking about!"
   ]
  },
  {
   "cell_type": "code",
   "execution_count": null,
   "metadata": {
    "id": "-OHXyP5-uKpc"
   },
   "outputs": [],
   "source": [
    "# notice that if we just print out the value, we can\n",
    "# see that when this code runs, GoTData.skills is evaluated to\n",
    "# the value associated with it in the GoTData object\n",
    "print(GoTData.skills) "
   ]
  },
  {
   "cell_type": "code",
   "execution_count": null,
   "metadata": {
    "id": "DUtMQk92uKpc"
   },
   "outputs": [],
   "source": [
    "# Write a function to find the maximum value in the \"skills\" column \n",
    "# -- we'll do this together after you work on it"
   ]
  },
  {
   "cell_type": "code",
   "execution_count": null,
   "metadata": {
    "id": "xwT4FzaBuKpc"
   },
   "outputs": [],
   "source": [
    "# Write a function that returns the list of ids that correspond to rows \n",
    "# that have a last name that starts with ‘S’. \n",
    "# Start by just printing out the rows that have names with a \n",
    "# last name that starts with \"S\"\n",
    "# -- we'll do this together after you work on it"
   ]
  },
  {
   "cell_type": "markdown",
   "metadata": {
    "id": "i00QtbcBuKpd"
   },
   "source": [
    "# Reading csv files as nested lists\n",
    "***\n",
    "\n",
    "We will generalize the functions in previous section to use over large files."
   ]
  },
  {
   "cell_type": "code",
   "execution_count": null,
   "metadata": {
    "ExecuteTime": {
     "end_time": "2018-10-28T22:36:08.332289Z",
     "start_time": "2018-10-28T22:36:08.251795Z"
    },
    "id": "nzvmUYsduKpd"
   },
   "outputs": [],
   "source": [
    "# let's start by taking a look at the file\n",
    "# make sure that this file is already saved in the \n",
    "# same directory as this notebook!\n",
    "\n",
    "f = open(\"GoT.csv\", \"r\")\n",
    "line = f.readline()\n",
    "while line:\n",
    "    print(line)\n",
    "    line = f.readline()\n",
    "f.close()"
   ]
  },
  {
   "cell_type": "code",
   "execution_count": null,
   "metadata": {
    "ExecuteTime": {
     "end_time": "2018-10-28T22:46:11.892842Z",
     "start_time": "2018-10-28T22:46:11.885055Z"
    },
    "id": "fDWpmTaTuKpe",
    "scrolled": true
   },
   "outputs": [],
   "source": [
    "# task: write a read_data function that makes a \n",
    "# list of lists from the input file and \n",
    "# that ignores the header (first row) in the\n",
    "# data file\n",
    "\n",
    "def read_data(file_name):\n",
    "    f = open(file_name, \"r\")\n",
    "    # read in the first line\n",
    "    headers = f.readline().strip().split(\",\")\n",
    "    # now look at all of the rows\n",
    "    rows = []\n",
    "    i = 0\n",
    "    line = f.readline()\n",
    "    while line:\n",
    "        # what does the following line of code do?\n",
    "        rows.append(line.strip().split(\",\"))\n",
    "        line = f.readline()\n",
    "    f.close()\n",
    "    return rows\n",
    "\n",
    "# testing this function\n",
    "lst = read_data(\"GoT.csv\")\n",
    "print(len(lst))"
   ]
  },
  {
   "cell_type": "markdown",
   "metadata": {
    "id": "TrB4Qwp5BWS3"
   },
   "source": []
  },
  {
   "cell_type": "markdown",
   "metadata": {
    "id": "pMdEYRoJBXAo"
   },
   "source": [
    "# COMPUTER TIME!\n",
    "***\n",
    "Go ahead and solve the following exercises.\n",
    "And also, please look at the course notes for this week and the last week. Please let us know if you have any questions towards this concept.\n",
    "\n",
    "Use the `GoTData` object to access columns.\n",
    "\n"
   ]
  },
  {
   "cell_type": "code",
   "execution_count": null,
   "metadata": {
    "id": "QgophM0X8sDs"
   },
   "outputs": [],
   "source": [
    "#Execute this cell to read GoT.csv into the variable data\n",
    "\n",
    "data = read_data(\"GoT.csv\")"
   ]
  },
  {
   "cell_type": "code",
   "execution_count": null,
   "metadata": {
    "id": "mrFNRMAeBXAq"
   },
   "outputs": [],
   "source": [
    "# Be sure that you've run the cell defining the GoTData object earlier in this notebook!"
   ]
  },
  {
   "cell_type": "markdown",
   "metadata": {
    "id": "ZWlWYdjtBXAq"
   },
   "source": [
    "1. Write the line of code that accesses the name column of the 3rd row of the data set when it is in the following format:"
   ]
  },
  {
   "cell_type": "code",
   "execution_count": null,
   "metadata": {
    "id": "d1pAW_XA0ZeA"
   },
   "outputs": [],
   "source": []
  },
  {
   "cell_type": "markdown",
   "metadata": {
    "id": "38wbidUmBXAs"
   },
   "source": [
    "2. Using the above `GoTData` object, print the `name` column of the data for the first 7 rows. (use a while loop)"
   ]
  },
  {
   "cell_type": "code",
   "execution_count": null,
   "metadata": {
    "id": "qlA3rlTKBXAs"
   },
   "outputs": [],
   "source": []
  },
  {
   "cell_type": "markdown",
   "metadata": {
    "id": "3-wE07Fn22qB"
   },
   "source": [
    "3. Function that isolates a single column in a given list of lists and returns a new list containing only values from that column. You may assume that all sub-lists have the same length.\n"
   ]
  },
  {
   "cell_type": "code",
   "execution_count": null,
   "metadata": {
    "id": "JW5n0S2-BXAu"
   },
   "outputs": [],
   "source": []
  },
  {
   "cell_type": "markdown",
   "metadata": {
    "id": "sjWFV19y4VM5"
   },
   "source": [
    "4. Write a function to find the name of the person with maximum value in the \"skills\" column. Use your function from the previous problem to get skills list."
   ]
  },
  {
   "cell_type": "code",
   "execution_count": null,
   "metadata": {
    "id": "i8ZjjFsr4bxi"
   },
   "outputs": [],
   "source": []
  },
  {
   "cell_type": "markdown",
   "metadata": {
    "id": "1VU7ATns6O_f"
   },
   "source": [
    "5. Write a function that returns the list of ids that correspond to rows that have a last name that starts with ‘S’. "
   ]
  },
  {
   "cell_type": "code",
   "execution_count": null,
   "metadata": {
    "id": "nmUkh6ml6OpB"
   },
   "outputs": [],
   "source": []
  },
  {
   "cell_type": "markdown",
   "metadata": {
    "id": "EaNYNOU7BXAw"
   },
   "source": [
    "## Challenge problems\n",
    "-------\n",
    "If you've gotten a good start, take a crack at these!\n",
    "\n",
    "1. Call the `read_data` function on the file `GoT.csv`. What type are the elements in the sub-lists?\n",
    "\n",
    "Write a function `convert_types` that takes a list of lists (data) as a parameter and converts all strings that are numbers (use the `string.isdecimal()` function or `string.isnumeric()` function (they are basically the same)) to integers. This function should mutate your original list!\n",
    "\n",
    "2. Make a function, `count_name_letter`, that takes two parameters: a list of lists as generated from the `read_data` function on the file `GoT.csv`, and a string letter. This function should print the number of people whose first name begins with the given letter (case-insensitive). "
   ]
  },
  {
   "cell_type": "code",
   "execution_count": null,
   "metadata": {
    "id": "mklkKZbbBoji"
   },
   "outputs": [],
   "source": []
  }
 ],
 "metadata": {
  "colab": {
   "name": "lab11_objects_csv.ipynb",
   "provenance": []
  },
  "kernelspec": {
   "display_name": "Python 3 (ipykernel)",
   "language": "python",
   "name": "python3"
  },
  "language_info": {
   "codemirror_mode": {
    "name": "ipython",
    "version": 3
   },
   "file_extension": ".py",
   "mimetype": "text/x-python",
   "name": "python",
   "nbconvert_exporter": "python",
   "pygments_lexer": "ipython3",
   "version": "3.9.6"
  }
 },
 "nbformat": 4,
 "nbformat_minor": 4
}
