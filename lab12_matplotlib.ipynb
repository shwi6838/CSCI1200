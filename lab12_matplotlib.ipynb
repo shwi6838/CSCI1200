{
 "cells": [
  {
   "cell_type": "markdown",
   "metadata": {},
   "source": [
    "# Lab 12 - CSCI 1200\n",
    "***\n",
    "Welcome to the lab, you will be practicing with matplotlib implementations.\n",
    "\n",
    "We will walk through half of this notebook together at the beginning of the recitation, and you will work on the rest of it in Computer Time!"
   ]
  },
  {
   "cell_type": "markdown",
   "metadata": {
    "ExecuteTime": {
     "end_time": "2018-08-29T01:05:33.512684Z",
     "start_time": "2018-08-29T01:05:33.504659Z"
    }
   },
   "source": [
    "# matplotlib demo\n",
    "***\n",
    "\n"
   ]
  },
  {
   "cell_type": "code",
   "execution_count": 5,
   "metadata": {
    "ExecuteTime": {
     "end_time": "2018-11-06T04:54:46.186657Z",
     "start_time": "2018-11-06T04:54:45.611566Z"
    }
   },
   "outputs": [],
   "source": [
    "# first step is to import matplotlib the right way\n",
    "%matplotlib inline\n",
    "import matplotlib.pyplot as plt\n",
    "\n",
    "# then import anything you might need in your project, I need random package\n",
    "import random\n",
    "import matplotlib.colors as colors \n",
    "\n",
    "class MouseData:\n",
    "    day = 0\n",
    "    mouse_number = 1\n",
    "    weight = 2\n",
    "    body_length = 3\n",
    "    tail_length = 4\n",
    "    cheese_found = 5"
   ]
  },
  {
   "cell_type": "markdown",
   "metadata": {},
   "source": [
    "Copy and paste your `get_column_values` function into the cell below.\n",
    "\n",
    "(We'll be using a version imported from our `secrets` module for the TA demos) - you don't have the secrets.py module, so you won't be able to follow along precicely with this."
   ]
  },
  {
   "cell_type": "code",
   "execution_count": 6,
   "metadata": {},
   "outputs": [],
   "source": [
    "# Put your function for get_column_values here\n",
    "# (If you ahve already written it for the project, then copy and paste here.\n",
    "# Otherwise write one from scratch)\n",
    "\n",
    "import secrets"
   ]
  },
  {
   "cell_type": "code",
   "execution_count": 7,
   "metadata": {},
   "outputs": [
    {
     "data": {
      "image/png": "[encoded data removed]",
      "text/plain": [
       "<Figure size 432x288 with 1 Axes>"
      ]
     },
     "metadata": {
      "needs_background": "light"
     },
     "output_type": "display_data"
    }
   ],
   "source": [
    "# plotting mouse number and weight\n",
    "mouse_data = [[1.0, 1.0, 40.0, 7.5, 6.0, 1.0], \\\n",
    "              [1.0, 2.0, 41.0, 10.0, 9.0, 2.0], \\\n",
    "              [1.0, 3.0, 39.0, 6.7, 5.5, 1.0], \\\n",
    "              [1.0, 4.0, 48.0, 8.5, 7.0, 3.0], \\\n",
    "              [1.0, 5.0, 47.0, 8.0, 7.1, 1.0], \\\n",
    "              [1.0, 6.0, 45.0, 9.0, 10.0, 0.0], \\\n",
    "              [2.0, 1.0, 41.0, 7.5, 6.0, 2.0], \\\n",
    "              [2.0, 2.0, 41.5, 10.0, 9.0, 2.0], \\\n",
    "              [2.0, 3.0, 40.0, 6.8, 5.5, 1.0], \\\n",
    "              [2.0, 4.0, 48.0, 8.5, 7.0, 0.0], \\\n",
    "              [2.0, 5.0, 48.0, 8.0, 7.1, 1.0], \\\n",
    "              [2.0, 6.0, 45.0, 9.0, 10.0, 2.0]]\n",
    "\n",
    "xs = secrets.get_column_values(mouse_data, MouseData.mouse_number)\n",
    "ys = secrets.get_column_values(mouse_data, MouseData.weight)\n",
    "\n",
    "plt.scatter(xs, ys)\n",
    "plt.xlabel(\"mouse number\") \n",
    "plt.ylabel(\"weight\") \n",
    "plt.title('Mouse weights days one and two') \n",
    "plt.savefig(\"mousevsweight.pdf\", bbox_inches='tight') # notice this line\n",
    "plt.show()"
   ]
  },
  {
   "cell_type": "code",
   "execution_count": 8,
   "metadata": {},
   "outputs": [
    {
     "data": {
      "image/png": "[encoded data removed]",
      "text/plain": [
       "<Figure size 432x288 with 1 Axes>"
      ]
     },
     "metadata": {
      "needs_background": "light"
     },
     "output_type": "display_data"
    }
   ],
   "source": [
    "xs = secrets.get_column_values(mouse_data, MouseData.cheese_found)\n",
    "ys = secrets.get_column_values(mouse_data, MouseData.tail_length)\n",
    "\n",
    "plt.scatter(xs, ys)\n",
    "plt.xlabel(\"number cheeses found\") \n",
    "plt.ylabel(\"tail length\") \n",
    "plt.title('Number of cheeses found vs. tail length') \n",
    "plt.savefig(\"cheesesvstail.pdf\", bbox_inches='tight') # notice this line\n",
    "plt.show()"
   ]
  },
  {
   "cell_type": "markdown",
   "metadata": {},
   "source": [
    "# Computer Time!\n",
    "***"
   ]
  },
  {
   "cell_type": "markdown",
   "metadata": {},
   "source": [
    "1. Draw a histogram, plotting the frequency of mouse weight over both days. Include 3 bins of equal size. Your first bin should start at the minimum weight in the data and your last bin should end at the maximum weight in the data. Count should go on the y-axis and weight in grams should go on the x-axis. Remember to title your graph."
   ]
  },
  {
   "cell_type": "code",
   "execution_count": null,
   "metadata": {},
   "outputs": [],
   "source": []
  },
  {
   "cell_type": "markdown",
   "metadata": {},
   "source": [
    "2. Write the code, using the functions provided above, that will get the subset of the data collected for all mice on day 1."
   ]
  },
  {
   "cell_type": "code",
   "execution_count": null,
   "metadata": {},
   "outputs": [],
   "source": []
  },
  {
   "cell_type": "markdown",
   "metadata": {},
   "source": [
    "3. Write the code, using the functions provided above, that will get the subset of the data collected for all mice on day 2."
   ]
  },
  {
   "cell_type": "code",
   "execution_count": null,
   "metadata": {},
   "outputs": [],
   "source": []
  },
  {
   "cell_type": "markdown",
   "metadata": {},
   "source": [
    "4. Write the code to plot mouse weight on day 1 as one series in a scatter plot and mouse weight on day 2 as a second series on the same plot. Use mouse number for the x axis and mouse weight for the y axis. Feel free to use your answers from the previous questions to help out."
   ]
  },
  {
   "cell_type": "code",
   "execution_count": null,
   "metadata": {},
   "outputs": [],
   "source": []
  },
  {
   "cell_type": "markdown",
   "metadata": {},
   "source": [
    "5. Draw the graph that your code from the previous question should produce."
   ]
  },
  {
   "cell_type": "code",
   "execution_count": null,
   "metadata": {},
   "outputs": [],
   "source": []
  }
 ],
 "metadata": {
  "kernelspec": {
   "display_name": "Python 3 (ipykernel)",
   "language": "python",
   "name": "python3"
  },
  "language_info": {
   "codemirror_mode": {
    "name": "ipython",
    "version": 3
   },
   "file_extension": ".py",
   "mimetype": "text/x-python",
   "name": "python",
   "nbconvert_exporter": "python",
   "pygments_lexer": "ipython3",
   "version": "3.9.6"
  }
 },
 "nbformat": 4,
 "nbformat_minor": 4
}
